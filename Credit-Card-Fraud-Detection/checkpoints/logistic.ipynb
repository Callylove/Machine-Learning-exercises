import pandas as pd
from sklearn.model_selection import train_test_split
from sklearn.ensemble import IsolationForest
from sklearn.metrics import confusion_matrix
from sklearn.preprocessing import StandardScaler
import numpy as np
df = pd.read_csv("./creditcard.csv")
import matplotlib.pyplot as plt
import seaborn as sns
plt.figure(figsize=(7,5))
sns.countplot(df["Class"])
plt.title("class count", fontsize="18")
plt.xlabel("Recod counts by class", fontsize=15)
plt.ylabel("Count", fontsize=15)
plt.show
corr = df.corr()

# plt.figure(figsize=(10,7))
# sns.heatmap(corr,cmap="coolwarm", annot=True)
# plt.show()
#As time is given in relative fashion, we are using pandas.Timedelta which represent a duration between two time
Delta_Time = pd.to_timedelta(df['Time'], unit='s')
print(Delta_Time)
df['Time_Day'] = (Delta_Time.dt.components.days).astype(int)
df['Time_Hour'] = (Delta_Time.dt.components.hours).astype(int)
df['Time_Min'] = (Delta_Time.dt.components.minutes).astype(int)
df.drop('Time', axis=1, inplace=True)
df.drop(['Time_Day', 'Time_Min'], axis=1,inplace=True)
y=df['Class']
X = df.drop(['Class'], axis=1)
X_train,X_test,y_train,y_test = train_test_split(X,y,test_size=0.2, random_state=100)
cols = list(X.columns.values)
normal_records = df.Class == 0
fraud_records = df.Class == 1
plt.figure(figsize=(20,60))
for n, col in enumerate(cols):
    plt.subplot(10,3,n+1)
    sns.displot(X[col][normal_records],color='green')
    sns.displot(X[col][fraud_records],color='red')
    plt.title(col, fontsize=17)
plt.show()
df_results = pd.DataFrame(columns=['Methodology', 'Model', 'Accuracy', 'roc_value', 'threshold'])
def Plot_confusion_matrix(y_test,pred_test):
    cm = confusion_matrix(y_test, pred_test)
    plt.clf()
    plt.imshow(cm,interpolation='nearest', cmap=plt.cm.Accent)
    CategoryNames = ['Non-fraudalent', 'Fraudalent']
    plt.title('Confusion Matrix - Test data')
    plt.ylabel('True label')
    plt.xlabel('Predicted label')
    ticks = np.arrange(len(CategoryNames))
    plt.xticks(ticks,CategoryNames,rotation=45)
    plt.yticks(ticks,CategoryNames)
    s = [['TN', 'FP'],['FN', 'TP']]

    for i in range(2):
        for j in range(2):
            plt.text(i,j,str(s[i][j]+' = '+str(cm[i][j]), fontsize=12))
    plt.show()


